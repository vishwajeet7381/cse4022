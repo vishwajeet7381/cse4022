{
 "cells": [
  {
   "cell_type": "code",
   "execution_count": 1,
   "metadata": {},
   "outputs": [],
   "source": [
    "import nltk\n",
    "from nltk.tokenize import TweetTokenizer\n"
   ]
  },
  {
   "cell_type": "code",
   "execution_count": 2,
   "metadata": {},
   "outputs": [
    {
     "data": {
      "text/plain": [
       "['The', 'Party', 'was', 'sooo', 'fun', ':D', '#superfun']"
      ]
     },
     "execution_count": 2,
     "metadata": {},
     "output_type": "execute_result"
    }
   ],
   "source": [
    "twtkn = TweetTokenizer()\n",
    "\n",
    "text = \"The Party was sooo fun :D #superfun\"\n",
    "twtkn.tokenize(text)\n"
   ]
  }
 ],
 "metadata": {
  "kernelspec": {
   "display_name": "cse4022",
   "language": "python",
   "name": "python3"
  },
  "language_info": {
   "codemirror_mode": {
    "name": "ipython",
    "version": 3
   },
   "file_extension": ".py",
   "mimetype": "text/x-python",
   "name": "python",
   "nbconvert_exporter": "python",
   "pygments_lexer": "ipython3",
   "version": "3.11.0"
  },
  "orig_nbformat": 4,
  "vscode": {
   "interpreter": {
    "hash": "d231c6ae6a395e72cdb34aad0d94e0c7194206fc17f69c6789bfd920de672766"
   }
  }
 },
 "nbformat": 4,
 "nbformat_minor": 2
}
