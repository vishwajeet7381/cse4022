{
 "cells": [
  {
   "attachments": {},
   "cell_type": "markdown",
   "metadata": {},
   "source": [
    "## COCA (Corpora of Contemporary American English) Features Overview\n"
   ]
  },
  {
   "attachments": {},
   "cell_type": "markdown",
   "metadata": {},
   "source": [
    "\n",
    "### Description of COCA and What we can do with it?\n",
    "\n",
    "![](https://github.com/vishwajeet7381/cse4022/blob/main/task2/images/ss1.png)\n"
   ]
  },
  {
   "attachments": {},
   "cell_type": "markdown",
   "metadata": {},
   "source": [
    "### Frequency count of Different Words:\n",
    "\n",
    "![](https://github.com/vishwajeet7381/cse4022/blob/main/task2/images/ss2.png)\n",
    "![](https://github.com/vishwajeet7381/cse4022/blob/main/task2/images/ss3.png)\n",
    "![](https://github.com/vishwajeet7381/cse4022/blob/main/task2/images/ss4.png)"
   ]
  }
 ],
 "metadata": {
  "kernelspec": {
   "display_name": "cse4022",
   "language": "python",
   "name": "python3"
  },
  "language_info": {
   "name": "python",
   "version": "3.11.0 | packaged by conda-forge | (main, Oct 25 2022, 06:24:40) [GCC 10.4.0]"
  },
  "orig_nbformat": 4,
  "vscode": {
   "interpreter": {
    "hash": "d231c6ae6a395e72cdb34aad0d94e0c7194206fc17f69c6789bfd920de672766"
   }
  }
 },
 "nbformat": 4,
 "nbformat_minor": 2
}
